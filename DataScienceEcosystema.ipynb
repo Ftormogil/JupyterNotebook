{
 "cells": [
  {
   "cell_type": "markdown",
   "id": "1bbfe4c5-9678-444a-8e70-ac761824d4e5",
   "metadata": {},
   "source": [
    "# Data Science Tools and Ecosystem"
   ]
  },
  {
   "cell_type": "markdown",
   "id": "5513c36d-2b22-4fc2-b356-2ff5761cdabb",
   "metadata": {},
   "source": [
    "In this notebook, Data Science Tools and Ecosystem are summarized."
   ]
  },
  {
   "cell_type": "markdown",
   "id": "181b8952-7354-401b-9a96-8f0579328fbb",
   "metadata": {},
   "source": [
    "__Objectives:__\n",
    "List popular languages for Data Science\n",
    "* Python\n",
    "* R\n",
    "* SQL\n",
    "* Julia\n",
    "* Scala\n",
    "* Java\n",
    "* C++"
   ]
  },
  {
   "cell_type": "markdown",
   "id": "6c97be61-b2b9-4d66-b21b-f7c316f5a017",
   "metadata": {},
   "source": [
    "Some of the popular languages that Data Scientists use are:"
   ]
  },
  {
   "cell_type": "markdown",
   "id": "101883d5-d27f-442f-9a73-29df0cf5e7ee",
   "metadata": {},
   "source": [
    "1. Python \n",
    "2. R      \n",
    "3. SQL    \n",
    "4. Julia  \n",
    "5. Scala  \n",
    "6. Java   \n",
    "7. C++ \n"
   ]
  },
  {
   "cell_type": "markdown",
   "id": "ea0cbe6b-fa55-4cac-8b5b-994b49e6ea34",
   "metadata": {},
   "source": [
    "Some of the commonly used libraries used by Data Scientists include:"
   ]
  },
  {
   "cell_type": "markdown",
   "id": "b148dc85-89b7-44d4-ac62-1616afa1231c",
   "metadata": {},
   "source": [
    "1. Pandas\n",
    "2. NumPy\n",
    "3. SciPy\n",
    "4. Matplotlib"
   ]
  },
  {
   "cell_type": "markdown",
   "id": "03fd0a27-ebf8-4f5a-b422-50a3d602dc08",
   "metadata": {},
   "source": [
    "| Data Science Tools |\n",
    "| ------------------ |\n",
    "| Weka |\n",
    "| Java-ML |\n",
    "| Apache Mlib |\n",
    "| Deeplearning4 |\n",
    "| Apache Spark |\n",
    "| TensorFlow.js |\n",
    "| R-js |\n",
    "| JuliaDB |\n"
   ]
  },
  {
   "cell_type": "markdown",
   "id": "5286cc11-8fc8-47f9-bd5c-a153caa184e9",
   "metadata": {},
   "source": [
    "### Below are a few examples of evaluating arithmetic expressions in Python"
   ]
  },
  {
   "cell_type": "code",
   "execution_count": 31,
   "id": "d6e6dd9a-c587-41a2-8c52-5585793bb4c1",
   "metadata": {},
   "outputs": [
    {
     "name": "stdout",
     "output_type": "stream",
     "text": [
      "17\n"
     ]
    }
   ],
   "source": [
    "# This a simple arithmetic expression to mutiply then add integers\n",
    "print((3*4)+5)"
   ]
  },
  {
   "cell_type": "code",
   "execution_count": 33,
   "id": "7b6794a6-381d-402b-b171-8015d1680719",
   "metadata": {},
   "outputs": [
    {
     "name": "stdout",
     "output_type": "stream",
     "text": [
      "3.3333333333333335\n"
     ]
    }
   ],
   "source": [
    "# This will convert 200 minutes to hours by diving by 60\n",
    "print(200/60)"
   ]
  },
  {
   "cell_type": "markdown",
   "id": "4cb0e1b8-6a58-4440-abcd-05557cb0a379",
   "metadata": {},
   "source": [
    "## Author\n",
    "Francisco Tormo Gil"
   ]
  },
  {
   "cell_type": "code",
   "execution_count": null,
   "id": "e2d7a277-f1b5-4d8c-97a9-8692d3bbb018",
   "metadata": {},
   "outputs": [],
   "source": []
  }
 ],
 "metadata": {
  "kernelspec": {
   "display_name": "Python 3 (ipykernel)",
   "language": "python",
   "name": "python3"
  },
  "language_info": {
   "codemirror_mode": {
    "name": "ipython",
    "version": 3
   },
   "file_extension": ".py",
   "mimetype": "text/x-python",
   "name": "python",
   "nbconvert_exporter": "python",
   "pygments_lexer": "ipython3",
   "version": "3.12.4"
  }
 },
 "nbformat": 4,
 "nbformat_minor": 5
}
